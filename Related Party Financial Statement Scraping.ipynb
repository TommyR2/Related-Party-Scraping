{
 "cells": [
  {
   "cell_type": "code",
   "execution_count": null,
   "metadata": {},
   "outputs": [],
   "source": [
    "#Download Filings\n",
    "from sec_edgar_downloader import Downloader\n",
    "#This will download all of the filings pulled into an assigned folder\n",
    "dl = Downloader(\"INSERT DOWNLOAD DIRECTORY HERE (ABSOLUTE PATHWAY)\")\n",
    "import os\n",
    "from bs4 import BeautifulSoup\n",
    "\n",
    "#This generates a list of all companies in the S&P 500, note that the \"Tickers\" variable can be altered to include as many or as few companies as desired\n",
    "import pandas as pd\n",
    "table=pd.read_html('https://en.wikipedia.org/wiki/List_of_S%26P_500_companies')\n",
    "df = table[0]\n",
    "Tickers  = list(df[\"Symbol\"])\n",
    "\n",
    "#Note there are many possible filing types available at: https://pypi.org/project/sec-edgar-downloader/\n",
    "Entry_type = \"10-Q\"\n",
    "dic = {}\n",
    "\n",
    "for Ticker in Tickers:\n",
    "    try:\n",
    "        dl.get(Entry_type, Ticker, amount = 1)\n",
    "        company_filing = os.listdir('INSERT DOWNLOAD DIRECTORY HERE (ABSOLUTE PATHWAY)/sec-edgar-filings/{}/{}'.format(Ticker, Entry_type))\n",
    "\n",
    "        def related_party_extraction(Ticker):\n",
    "            with open('INSERT DOWNLOAD DIRECTORY HERE (ABSOLUTE PATHWAY)/sec-edgar-filings/{}/{}/{}/filing-details.html'.format(Ticker, Entry_type, company_filing[0])) as file:\n",
    "                soup = BeautifulSoup(file, 'lxml')\n",
    "            text_pieces = soup.find_all(\"div\")\n",
    "            Related_parties = 0\n",
    "            for i in text_pieces:\n",
    "                if \"related party\" in i.text:\n",
    "                    Related_parties+=1\n",
    "            return Related_parties\n",
    "        dic[Ticker] = related_party_extraction(Ticker)\n",
    "        print(Ticker)\n",
    "    except:\n",
    "        dic[Ticker]=0\n"
   ]
  },
  {
   "cell_type": "code",
   "execution_count": 31,
   "metadata": {},
   "outputs": [],
   "source": [
    "dataset = sorted(dic.items(), key=lambda item: item[1])[::-1]\n",
    "top_10 = dataset[:10]"
   ]
  },
  {
   "cell_type": "code",
   "execution_count": 45,
   "metadata": {},
   "outputs": [],
   "source": [
    "top_10_tickers = [point[0] for point in top_10]\n",
    "top_10_rps = [point[1] for point in top_10]"
   ]
  },
  {
   "cell_type": "code",
   "execution_count": 53,
   "metadata": {},
   "outputs": [
    {
     "data": {
      "image/png": "[encoded data removed]",
      "text/plain": [
       "<Figure size 640x480 with 1 Axes>"
      ]
     },
     "metadata": {},
     "output_type": "display_data"
    }
   ],
   "source": [
    "import matplotlib.pyplot as plt\n",
    "fig = plt.figure()\n",
    "ax = fig.add_axes([0,0,1,1])\n",
    "ax.bar(top_10_tickers,top_10_rps)\n",
    "plt.show()"
   ]
  }
 ],
 "metadata": {
  "kernelspec": {
   "display_name": "Python 3.9.13 ('base')",
   "language": "python",
   "name": "python3"
  },
  "language_info": {
   "codemirror_mode": {
    "name": "ipython",
    "version": 3
   },
   "file_extension": ".py",
   "mimetype": "text/x-python",
   "name": "python",
   "nbconvert_exporter": "python",
   "pygments_lexer": "ipython3",
   "version": "3.9.13"
  },
  "orig_nbformat": 4,
  "vscode": {
   "interpreter": {
    "hash": "40d3a090f54c6569ab1632332b64b2c03c39dcf918b08424e98f38b5ae0af88f"
   }
  }
 },
 "nbformat": 4,
 "nbformat_minor": 2
}
